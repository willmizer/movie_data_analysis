{
 "cells": [
  {
   "cell_type": "markdown",
   "id": "b979c1d6",
   "metadata": {},
   "source": [
    "# **TMDB Movie Data Cleaning**  \n",
    "**Data Link**: [TMDB + IMDB (1 Million Movies Dataset)](https://www.kaggle.com/datasets/alanvourch/tmdb-movies-daily-updates)\n",
    "\n",
    "### **Goals:**\n",
    "- Understand the basic layout of the data  \n",
    "- Remove unnecessary columns  \n",
    "- Handle all missing values to standardize the data for modeling and analysis  \n",
    "- Add key feature columns to improve data understanding  \n",
    "- This dataset will continually be refined in eda - this file represents a baseline level clean to remove and understand obvious things about the data\n"
   ]
  },
  {
   "cell_type": "code",
   "execution_count": 553,
   "id": "a1757793",
   "metadata": {},
   "outputs": [],
   "source": [
    "import pandas as pd\n",
    "import seaborn as sns\n",
    "import matplotlib.pyplot as plt"
   ]
  },
  {
   "cell_type": "code",
   "execution_count": 554,
   "id": "a9e94831",
   "metadata": {},
   "outputs": [
    {
     "data": {
      "text/html": [
       "<div>\n",
       "<style scoped>\n",
       "    .dataframe tbody tr th:only-of-type {\n",
       "        vertical-align: middle;\n",
       "    }\n",
       "\n",
       "    .dataframe tbody tr th {\n",
       "        vertical-align: top;\n",
       "    }\n",
       "\n",
       "    .dataframe thead th {\n",
       "        text-align: right;\n",
       "    }\n",
       "</style>\n",
       "<table border=\"1\" class=\"dataframe\">\n",
       "  <thead>\n",
       "    <tr style=\"text-align: right;\">\n",
       "      <th></th>\n",
       "      <th>id</th>\n",
       "      <th>title</th>\n",
       "      <th>vote_average</th>\n",
       "      <th>vote_count</th>\n",
       "      <th>status</th>\n",
       "      <th>release_date</th>\n",
       "      <th>revenue</th>\n",
       "      <th>runtime</th>\n",
       "      <th>budget</th>\n",
       "      <th>imdb_id</th>\n",
       "      <th>...</th>\n",
       "      <th>spoken_languages</th>\n",
       "      <th>cast</th>\n",
       "      <th>director</th>\n",
       "      <th>director_of_photography</th>\n",
       "      <th>writers</th>\n",
       "      <th>producers</th>\n",
       "      <th>music_composer</th>\n",
       "      <th>imdb_rating</th>\n",
       "      <th>imdb_votes</th>\n",
       "      <th>poster_path</th>\n",
       "    </tr>\n",
       "  </thead>\n",
       "  <tbody>\n",
       "    <tr>\n",
       "      <th>0</th>\n",
       "      <td>2</td>\n",
       "      <td>Ariel</td>\n",
       "      <td>7.100</td>\n",
       "      <td>346.0</td>\n",
       "      <td>Released</td>\n",
       "      <td>1988-10-21</td>\n",
       "      <td>0.0</td>\n",
       "      <td>73.0</td>\n",
       "      <td>0.0</td>\n",
       "      <td>tt0094675</td>\n",
       "      <td>...</td>\n",
       "      <td>suomi</td>\n",
       "      <td>Merja Pulkkinen, Eetu Hilkamo, Turo Pajala, Es...</td>\n",
       "      <td>Aki Kaurismäki</td>\n",
       "      <td>Timo Salminen</td>\n",
       "      <td>Aki Kaurismäki</td>\n",
       "      <td>Aki Kaurismäki</td>\n",
       "      <td>NaN</td>\n",
       "      <td>7.4</td>\n",
       "      <td>9192.0</td>\n",
       "      <td>/ojDg0PGvs6R9xYFodRct2kdI6wC.jpg</td>\n",
       "    </tr>\n",
       "    <tr>\n",
       "      <th>1</th>\n",
       "      <td>3</td>\n",
       "      <td>Shadows in Paradise</td>\n",
       "      <td>7.293</td>\n",
       "      <td>409.0</td>\n",
       "      <td>Released</td>\n",
       "      <td>1986-10-17</td>\n",
       "      <td>0.0</td>\n",
       "      <td>74.0</td>\n",
       "      <td>0.0</td>\n",
       "      <td>tt0092149</td>\n",
       "      <td>...</td>\n",
       "      <td>suomi, English, svenska</td>\n",
       "      <td>Esko Nikkari, Mari Rantasila, Marina Martinoff...</td>\n",
       "      <td>Aki Kaurismäki</td>\n",
       "      <td>Timo Salminen</td>\n",
       "      <td>Aki Kaurismäki</td>\n",
       "      <td>Mika Kaurismäki</td>\n",
       "      <td>NaN</td>\n",
       "      <td>7.4</td>\n",
       "      <td>8023.0</td>\n",
       "      <td>/nj01hspawPof0mJmlgfjuLyJuRN.jpg</td>\n",
       "    </tr>\n",
       "    <tr>\n",
       "      <th>2</th>\n",
       "      <td>5</td>\n",
       "      <td>Four Rooms</td>\n",
       "      <td>5.862</td>\n",
       "      <td>2694.0</td>\n",
       "      <td>Released</td>\n",
       "      <td>1995-12-09</td>\n",
       "      <td>4257354.0</td>\n",
       "      <td>98.0</td>\n",
       "      <td>4000000.0</td>\n",
       "      <td>tt0113101</td>\n",
       "      <td>...</td>\n",
       "      <td>English</td>\n",
       "      <td>Lili Taylor, Madonna, Tamlyn Tomita, Marc Lawr...</td>\n",
       "      <td>Quentin Tarantino, Robert Rodriguez, Allison A...</td>\n",
       "      <td>Phil Parmet, Guillermo Navarro, Andrzej Sekula...</td>\n",
       "      <td>Quentin Tarantino, Robert Rodriguez, Allison A...</td>\n",
       "      <td>Lawrence Bender, Quentin Tarantino, Alexandre ...</td>\n",
       "      <td>Combustible Edison</td>\n",
       "      <td>6.7</td>\n",
       "      <td>114283.0</td>\n",
       "      <td>/75aHn1NOYXh4M7L5shoeQ6NGykP.jpg</td>\n",
       "    </tr>\n",
       "  </tbody>\n",
       "</table>\n",
       "<p>3 rows × 28 columns</p>\n",
       "</div>"
      ],
      "text/plain": [
       "   id                title  vote_average  vote_count    status release_date  \\\n",
       "0   2                Ariel         7.100       346.0  Released   1988-10-21   \n",
       "1   3  Shadows in Paradise         7.293       409.0  Released   1986-10-17   \n",
       "2   5           Four Rooms         5.862      2694.0  Released   1995-12-09   \n",
       "\n",
       "     revenue  runtime     budget    imdb_id  ...         spoken_languages  \\\n",
       "0        0.0     73.0        0.0  tt0094675  ...                    suomi   \n",
       "1        0.0     74.0        0.0  tt0092149  ...  suomi, English, svenska   \n",
       "2  4257354.0     98.0  4000000.0  tt0113101  ...                  English   \n",
       "\n",
       "                                                cast  \\\n",
       "0  Merja Pulkkinen, Eetu Hilkamo, Turo Pajala, Es...   \n",
       "1  Esko Nikkari, Mari Rantasila, Marina Martinoff...   \n",
       "2  Lili Taylor, Madonna, Tamlyn Tomita, Marc Lawr...   \n",
       "\n",
       "                                            director  \\\n",
       "0                                     Aki Kaurismäki   \n",
       "1                                     Aki Kaurismäki   \n",
       "2  Quentin Tarantino, Robert Rodriguez, Allison A...   \n",
       "\n",
       "                             director_of_photography  \\\n",
       "0                                      Timo Salminen   \n",
       "1                                      Timo Salminen   \n",
       "2  Phil Parmet, Guillermo Navarro, Andrzej Sekula...   \n",
       "\n",
       "                                             writers  \\\n",
       "0                                     Aki Kaurismäki   \n",
       "1                                     Aki Kaurismäki   \n",
       "2  Quentin Tarantino, Robert Rodriguez, Allison A...   \n",
       "\n",
       "                                           producers      music_composer  \\\n",
       "0                                     Aki Kaurismäki                 NaN   \n",
       "1                                    Mika Kaurismäki                 NaN   \n",
       "2  Lawrence Bender, Quentin Tarantino, Alexandre ...  Combustible Edison   \n",
       "\n",
       "  imdb_rating imdb_votes                       poster_path  \n",
       "0         7.4     9192.0  /ojDg0PGvs6R9xYFodRct2kdI6wC.jpg  \n",
       "1         7.4     8023.0  /nj01hspawPof0mJmlgfjuLyJuRN.jpg  \n",
       "2         6.7   114283.0  /75aHn1NOYXh4M7L5shoeQ6NGykP.jpg  \n",
       "\n",
       "[3 rows x 28 columns]"
      ]
     },
     "execution_count": 554,
     "metadata": {},
     "output_type": "execute_result"
    }
   ],
   "source": [
    "# load data\n",
    "df = pd.read_csv('TMDB_all_movies.csv')\n",
    "df.head(3)"
   ]
  },
  {
   "cell_type": "code",
   "execution_count": 555,
   "id": "da323802",
   "metadata": {},
   "outputs": [],
   "source": [
    "initial_rows = len(df)"
   ]
  },
  {
   "cell_type": "markdown",
   "id": "649a480c",
   "metadata": {},
   "source": [
    "### Basic Data Understanding"
   ]
  },
  {
   "cell_type": "code",
   "execution_count": 556,
   "id": "c9866134",
   "metadata": {},
   "outputs": [
    {
     "name": "stdout",
     "output_type": "stream",
     "text": [
      "Index(['id', 'title', 'vote_average', 'vote_count', 'status', 'release_date',\n",
      "       'revenue', 'runtime', 'budget', 'imdb_id', 'original_language',\n",
      "       'original_title', 'overview', 'popularity', 'tagline', 'genres',\n",
      "       'production_companies', 'production_countries', 'spoken_languages',\n",
      "       'cast', 'director', 'director_of_photography', 'writers', 'producers',\n",
      "       'music_composer', 'imdb_rating', 'imdb_votes', 'poster_path'],\n",
      "      dtype='object')\n"
     ]
    }
   ],
   "source": [
    "# show list of all columns in dataframe\n",
    "print(df.columns)"
   ]
  },
  {
   "cell_type": "code",
   "execution_count": 557,
   "id": "46fcb12b",
   "metadata": {},
   "outputs": [
    {
     "name": "stdout",
     "output_type": "stream",
     "text": [
      "<class 'pandas.core.frame.DataFrame'>\n",
      "RangeIndex: 1103454 entries, 0 to 1103453\n",
      "Data columns (total 28 columns):\n",
      " #   Column                   Non-Null Count    Dtype  \n",
      "---  ------                   --------------    -----  \n",
      " 0   id                       1103454 non-null  int64  \n",
      " 1   title                    1103435 non-null  object \n",
      " 2   vote_average             1103452 non-null  float64\n",
      " 3   vote_count               1103452 non-null  float64\n",
      " 4   status                   1103452 non-null  object \n",
      " 5   release_date             975402 non-null   object \n",
      " 6   revenue                  1103452 non-null  float64\n",
      " 7   runtime                  1103452 non-null  float64\n",
      " 8   budget                   1103452 non-null  float64\n",
      " 9   imdb_id                  621167 non-null   object \n",
      " 10  original_language        1103452 non-null  object \n",
      " 11  original_title           1103436 non-null  object \n",
      " 12  overview                 906337 non-null   object \n",
      " 13  popularity               1103452 non-null  float64\n",
      " 14  tagline                  167041 non-null   object \n",
      " 15  genres                   787333 non-null   object \n",
      " 16  production_companies     513568 non-null   object \n",
      " 17  production_countries     665740 non-null   object \n",
      " 18  spoken_languages         681956 non-null   object \n",
      " 19  cast                     740450 non-null   object \n",
      " 20  director                 906763 non-null   object \n",
      " 21  director_of_photography  273397 non-null   object \n",
      " 22  writers                  540640 non-null   object \n",
      " 23  producers                358514 non-null   object \n",
      " 24  music_composer           112204 non-null   object \n",
      " 25  imdb_rating              448236 non-null   float64\n",
      " 26  imdb_votes               448236 non-null   float64\n",
      " 27  poster_path              799443 non-null   object \n",
      "dtypes: float64(8), int64(1), object(19)\n",
      "memory usage: 235.7+ MB\n"
     ]
    }
   ],
   "source": [
    "# show all details inside of dataframe - > 1 million movie ids\n",
    "df.info()"
   ]
  },
  {
   "cell_type": "code",
   "execution_count": 558,
   "id": "6382db8f",
   "metadata": {},
   "outputs": [],
   "source": [
    "# drop duplicates based on id\n",
    "df.drop_duplicates(subset='id', inplace=True)"
   ]
  },
  {
   "cell_type": "markdown",
   "id": "bde20ca9",
   "metadata": {},
   "source": [
    "### Create a URL column that is a linkable poster that will be usable for visualizations"
   ]
  },
  {
   "cell_type": "code",
   "execution_count": 559,
   "id": "f30fbb8b",
   "metadata": {},
   "outputs": [
    {
     "data": {
      "text/plain": [
       "0          /ojDg0PGvs6R9xYFodRct2kdI6wC.jpg\n",
       "1          /nj01hspawPof0mJmlgfjuLyJuRN.jpg\n",
       "2          /75aHn1NOYXh4M7L5shoeQ6NGykP.jpg\n",
       "3          /3rvvpS9YPM5HB2f4HYiNiJVtdam.jpg\n",
       "4          /7ln81BRnPR2wqxuITZxEciCe1lc.jpg\n",
       "                         ...               \n",
       "1103449                                 NaN\n",
       "1103450                                 NaN\n",
       "1103451                                 NaN\n",
       "1103452                                 NaN\n",
       "1103453                                 NaN\n",
       "Name: poster_path, Length: 1103454, dtype: object"
      ]
     },
     "execution_count": 559,
     "metadata": {},
     "output_type": "execute_result"
    }
   ],
   "source": [
    "df['poster_path']"
   ]
  },
  {
   "cell_type": "code",
   "execution_count": 560,
   "id": "44da5905",
   "metadata": {},
   "outputs": [],
   "source": [
    "# add actual poster path as a poster url column\n",
    "df['poster_url'] = \"https://image.tmdb.org/t/p/w500\" + df['poster_path']"
   ]
  },
  {
   "cell_type": "code",
   "execution_count": 561,
   "id": "c3fd56f5",
   "metadata": {},
   "outputs": [
    {
     "data": {
      "text/plain": [
       "0          https://image.tmdb.org/t/p/w500/ojDg0PGvs6R9xY...\n",
       "1          https://image.tmdb.org/t/p/w500/nj01hspawPof0m...\n",
       "2          https://image.tmdb.org/t/p/w500/75aHn1NOYXh4M7...\n",
       "3          https://image.tmdb.org/t/p/w500/3rvvpS9YPM5HB2...\n",
       "4          https://image.tmdb.org/t/p/w500/7ln81BRnPR2wqx...\n",
       "                                 ...                        \n",
       "1103449                                                  NaN\n",
       "1103450                                                  NaN\n",
       "1103451                                                  NaN\n",
       "1103452                                                  NaN\n",
       "1103453                                                  NaN\n",
       "Name: poster_url, Length: 1103454, dtype: object"
      ]
     },
     "execution_count": 561,
     "metadata": {},
     "output_type": "execute_result"
    }
   ],
   "source": [
    "df['poster_url']"
   ]
  },
  {
   "cell_type": "markdown",
   "id": "a99fdcb8",
   "metadata": {},
   "source": [
    "### Create day, month, year columns so more specific analysis can be done in unique scenarios"
   ]
  },
  {
   "cell_type": "code",
   "execution_count": null,
   "id": "269bd6b1",
   "metadata": {},
   "outputs": [
    {
     "data": {
      "text/html": [
       "<div>\n",
       "<style scoped>\n",
       "    .dataframe tbody tr th:only-of-type {\n",
       "        vertical-align: middle;\n",
       "    }\n",
       "\n",
       "    .dataframe tbody tr th {\n",
       "        vertical-align: top;\n",
       "    }\n",
       "\n",
       "    .dataframe thead th {\n",
       "        text-align: right;\n",
       "    }\n",
       "</style>\n",
       "<table border=\"1\" class=\"dataframe\">\n",
       "  <thead>\n",
       "    <tr style=\"text-align: right;\">\n",
       "      <th></th>\n",
       "      <th>title</th>\n",
       "      <th>year</th>\n",
       "      <th>month</th>\n",
       "      <th>day</th>\n",
       "    </tr>\n",
       "  </thead>\n",
       "  <tbody>\n",
       "    <tr>\n",
       "      <th>0</th>\n",
       "      <td>Ariel</td>\n",
       "      <td>1988</td>\n",
       "      <td>10</td>\n",
       "      <td>Friday</td>\n",
       "    </tr>\n",
       "    <tr>\n",
       "      <th>1</th>\n",
       "      <td>Shadows in Paradise</td>\n",
       "      <td>1986</td>\n",
       "      <td>10</td>\n",
       "      <td>Friday</td>\n",
       "    </tr>\n",
       "    <tr>\n",
       "      <th>2</th>\n",
       "      <td>Four Rooms</td>\n",
       "      <td>1995</td>\n",
       "      <td>12</td>\n",
       "      <td>Saturday</td>\n",
       "    </tr>\n",
       "  </tbody>\n",
       "</table>\n",
       "</div>"
      ],
      "text/plain": [
       "                 title  year  month       day\n",
       "0                Ariel  1988     10    Friday\n",
       "1  Shadows in Paradise  1986     10    Friday\n",
       "2           Four Rooms  1995     12  Saturday"
      ]
     },
     "execution_count": 562,
     "metadata": {},
     "output_type": "execute_result"
    }
   ],
   "source": [
    "# creating separate year, month and day of week columns to make analysis more in-depth later down the line\n",
    "\n",
    "# convert release_date to datetime format\n",
    "df['release_date'] = pd.to_datetime(df['release_date'], errors='coerce')\n",
    "\n",
    "# create year,month,day columns\n",
    "df['year'] = df['release_date'].dt.year.astype('Int64')\n",
    "df['month'] = df['release_date'].dt.month.astype('Int64')\n",
    "df['day'] = df['release_date'].dt.day_name()\n",
    "\n",
    "# Preview the result\n",
    "df[['title','year','month','day']].head(3)\n"
   ]
  },
  {
   "cell_type": "markdown",
   "id": "5d4f7259",
   "metadata": {},
   "source": [
    "### Show all columns that need NA values removed"
   ]
  },
  {
   "cell_type": "code",
   "execution_count": 563,
   "id": "da35371c",
   "metadata": {},
   "outputs": [
    {
     "data": {
      "text/plain": [
       "['title',\n",
       " 'vote_average',\n",
       " 'vote_count',\n",
       " 'status',\n",
       " 'release_date',\n",
       " 'revenue',\n",
       " 'runtime',\n",
       " 'budget',\n",
       " 'imdb_id',\n",
       " 'original_language',\n",
       " 'original_title',\n",
       " 'overview',\n",
       " 'popularity',\n",
       " 'tagline',\n",
       " 'genres',\n",
       " 'production_companies',\n",
       " 'production_countries',\n",
       " 'spoken_languages',\n",
       " 'cast',\n",
       " 'director',\n",
       " 'director_of_photography',\n",
       " 'writers',\n",
       " 'producers',\n",
       " 'music_composer',\n",
       " 'imdb_rating',\n",
       " 'imdb_votes',\n",
       " 'poster_path',\n",
       " 'poster_url',\n",
       " 'year',\n",
       " 'month',\n",
       " 'day']"
      ]
     },
     "execution_count": 563,
     "metadata": {},
     "output_type": "execute_result"
    }
   ],
   "source": [
    "# show all columns that do have na values inside of them\n",
    "na_columns = df.columns[df.isna().any()].tolist()\n",
    "na_columns"
   ]
  },
  {
   "cell_type": "markdown",
   "id": "675c201a",
   "metadata": {},
   "source": [
    "### Remove all entries with missing titles (cannot be used in analysis if the movie title is unknown)\n"
   ]
  },
  {
   "cell_type": "code",
   "execution_count": 564,
   "id": "f32b59f0",
   "metadata": {},
   "outputs": [
    {
     "name": "stdout",
     "output_type": "stream",
     "text": [
      "0\n"
     ]
    }
   ],
   "source": [
    "# handling nulls individually\n",
    "# removing all rows with null in title value (19 values)\n",
    "df = df.dropna(subset=['title'])\n",
    "\n",
    "# check if title column has any null values\n",
    "print(df['title'].isna().sum())\n"
   ]
  },
  {
   "cell_type": "markdown",
   "id": "9927962a",
   "metadata": {},
   "source": [
    "### Remove all values with runtime == zero as these values cant be movies with no runtime"
   ]
  },
  {
   "cell_type": "code",
   "execution_count": 565,
   "id": "86a699dd",
   "metadata": {},
   "outputs": [],
   "source": [
    "# remove all rows where runtime = 0 because movies with 0 runtime are not valid\n",
    "df = df[~(df['runtime'] == 0)]"
   ]
  },
  {
   "cell_type": "markdown",
   "id": "1fbbaaaf",
   "metadata": {},
   "source": [
    "### Drop imdb_id column because half the values are missing, and we already have a id column that doesnt have any missing values"
   ]
  },
  {
   "cell_type": "code",
   "execution_count": 566,
   "id": "720dd1e1",
   "metadata": {},
   "outputs": [],
   "source": [
    "# dont need imdb id and id columns so removing imdb_id since it contains nulls\n",
    "df = df.drop(columns=['imdb_id'])"
   ]
  },
  {
   "cell_type": "markdown",
   "id": "7a8d3aba",
   "metadata": {},
   "source": [
    "### Remove all rows with no votes for TMDBs database or IMDBs - these values havent been reviewed and are considered outliers"
   ]
  },
  {
   "cell_type": "code",
   "execution_count": 567,
   "id": "b3489ee3",
   "metadata": {},
   "outputs": [],
   "source": [
    "# remove all rows where vote_count = 0 and imdb_votes is null - this opens up opportunity for joining where we are missing values\n",
    "df = df[~((df['vote_count'] == 0) & (df['imdb_votes'].isna()))]"
   ]
  },
  {
   "cell_type": "markdown",
   "id": "ec173208",
   "metadata": {},
   "source": [
    "### Doing a \"join\" on vote values so if one value is missing it grabs the value from the other column (either tmdbs votes or imdbs w/o adding when)"
   ]
  },
  {
   "cell_type": "code",
   "execution_count": 568,
   "id": "d4e310f1",
   "metadata": {},
   "outputs": [],
   "source": [
    "# both vote_count and imdb_votes have values so if one is null or 0 we can use the other one, if both have values we can user the higher one\n",
    "df['votes'] = df[['vote_count', 'imdb_votes']].max(axis=1)\n",
    "# drop vote_count and imdb_votes columns since we have combined them into votes\n",
    "df = df.drop(columns=['vote_count', 'imdb_votes'])\n"
   ]
  },
  {
   "cell_type": "code",
   "execution_count": 569,
   "id": "84451cd0",
   "metadata": {},
   "outputs": [
    {
     "name": "stdout",
     "output_type": "stream",
     "text": [
      "0\n"
     ]
    }
   ],
   "source": [
    "# set imdb_votes to 0 if it is null\n",
    "df['votes'] = df['votes'].fillna(0)\n",
    "# check if imdb_votes column has any null values\n",
    "print(df['votes'].isna().sum())"
   ]
  },
  {
   "cell_type": "markdown",
   "id": "900ffa37",
   "metadata": {},
   "source": [
    "### Check quantile range on votes to see which values to remove\n",
    "- This ensures only movies that have actually been viewed and voted for are considered\n",
    "- This also partially takes care of biased voting and obscure entries"
   ]
  },
  {
   "cell_type": "code",
   "execution_count": 570,
   "id": "4e7aa91a",
   "metadata": {},
   "outputs": [],
   "source": [
    "vote_cutoff = df['votes'].quantile(0.01) # around 10 votes"
   ]
  },
  {
   "cell_type": "markdown",
   "id": "89da3d10",
   "metadata": {},
   "source": [
    "### Removing movies with less than 10 votes (1% of data)"
   ]
  },
  {
   "cell_type": "code",
   "execution_count": 571,
   "id": "5e277a80",
   "metadata": {},
   "outputs": [],
   "source": [
    "# remove rows where vote_count is under 10 \n",
    "df = df[~(df['votes'] < vote_cutoff)]"
   ]
  },
  {
   "cell_type": "markdown",
   "id": "5a68641e",
   "metadata": {},
   "source": [
    "### Take the average vote ratings from imdbs and tmdbs and create a average rating column combining both"
   ]
  },
  {
   "cell_type": "code",
   "execution_count": 572,
   "id": "c47c78b3",
   "metadata": {},
   "outputs": [],
   "source": [
    "# take average of vote_average and imdb_rating and combine into a average_rating column\n",
    "df['average_rating'] = df[['vote_average', 'imdb_rating']].mean(axis=1)\n",
    "# remove vote_average and imdb_rating columns\n",
    "df = df.drop(columns=['vote_average', 'imdb_rating'])"
   ]
  },
  {
   "cell_type": "markdown",
   "id": "d59aa71a",
   "metadata": {},
   "source": [
    "### Filter for movies with only released status then drop row \n",
    "- We want all movies to have already been released for accurate comparisons \n",
    "- This also cleans up the dataframe by gettign rid of a column"
   ]
  },
  {
   "cell_type": "code",
   "execution_count": 573,
   "id": "31ca2eee",
   "metadata": {},
   "outputs": [],
   "source": [
    "# remove all movies that are not \"Released\" - this is to ensure we only have movies that have relevant data\n",
    "df = df[df['status']  == 'Released']\n",
    "df.drop(columns=['status'], inplace=True) # we can remove status column safely now since Released is the only value we have"
   ]
  },
  {
   "cell_type": "markdown",
   "id": "2bb7e00b",
   "metadata": {},
   "source": [
    "### Similar to the above column, removing all movies that were made past 2026 as we dont want to deal with these"
   ]
  },
  {
   "cell_type": "code",
   "execution_count": 574,
   "id": "468dd4d7",
   "metadata": {},
   "outputs": [],
   "source": [
    "# remove na values in release_date and filter out years that are not in the range of 1900 to 2025\n",
    "df = df[(df['year'] >= 1900) & (df['year'] <= 2025)]"
   ]
  },
  {
   "cell_type": "code",
   "execution_count": 575,
   "id": "b2d08c8d",
   "metadata": {},
   "outputs": [
    {
     "data": {
      "text/plain": [
       "['overview',\n",
       " 'tagline',\n",
       " 'genres',\n",
       " 'production_companies',\n",
       " 'production_countries',\n",
       " 'spoken_languages',\n",
       " 'cast',\n",
       " 'director',\n",
       " 'director_of_photography',\n",
       " 'writers',\n",
       " 'producers',\n",
       " 'music_composer',\n",
       " 'poster_path',\n",
       " 'poster_url']"
      ]
     },
     "execution_count": 575,
     "metadata": {},
     "output_type": "execute_result"
    }
   ],
   "source": [
    "# show columns that still contain na values\n",
    "na_columns = df.columns[df.isna().any()].tolist()\n",
    "na_columns"
   ]
  },
  {
   "cell_type": "markdown",
   "id": "0e20a732",
   "metadata": {},
   "source": [
    "### Creating a weight column\n",
    "- This gives us a better idea of how \"good\" a movie is \n",
    "- We are multiplying two key factors of a movie, the votes and the average rating\n",
    "- This will give us a weight that will properly represent a movies popularity"
   ]
  },
  {
   "cell_type": "code",
   "execution_count": 576,
   "id": "cc22cd60",
   "metadata": {},
   "outputs": [],
   "source": [
    "# create a new column that is a weight based on the vote_count and average_rating (divided by 100 to make it more readable)\n",
    "df['weight'] = ((df['votes'] * df['average_rating'])/100).round(2)"
   ]
  },
  {
   "cell_type": "code",
   "execution_count": 577,
   "id": "b968aeba",
   "metadata": {},
   "outputs": [
    {
     "data": {
      "text/html": [
       "<div>\n",
       "<style scoped>\n",
       "    .dataframe tbody tr th:only-of-type {\n",
       "        vertical-align: middle;\n",
       "    }\n",
       "\n",
       "    .dataframe tbody tr th {\n",
       "        vertical-align: top;\n",
       "    }\n",
       "\n",
       "    .dataframe thead th {\n",
       "        text-align: right;\n",
       "    }\n",
       "</style>\n",
       "<table border=\"1\" class=\"dataframe\">\n",
       "  <thead>\n",
       "    <tr style=\"text-align: right;\">\n",
       "      <th></th>\n",
       "      <th>id</th>\n",
       "      <th>title</th>\n",
       "      <th>release_date</th>\n",
       "      <th>revenue</th>\n",
       "      <th>runtime</th>\n",
       "      <th>budget</th>\n",
       "      <th>original_language</th>\n",
       "      <th>original_title</th>\n",
       "      <th>overview</th>\n",
       "      <th>popularity</th>\n",
       "      <th>...</th>\n",
       "      <th>producers</th>\n",
       "      <th>music_composer</th>\n",
       "      <th>poster_path</th>\n",
       "      <th>poster_url</th>\n",
       "      <th>year</th>\n",
       "      <th>month</th>\n",
       "      <th>day</th>\n",
       "      <th>votes</th>\n",
       "      <th>average_rating</th>\n",
       "      <th>weight</th>\n",
       "    </tr>\n",
       "  </thead>\n",
       "  <tbody>\n",
       "    <tr>\n",
       "      <th>230</th>\n",
       "      <td>278</td>\n",
       "      <td>The Shawshank Redemption</td>\n",
       "      <td>1994-09-23</td>\n",
       "      <td>2.834147e+07</td>\n",
       "      <td>142.0</td>\n",
       "      <td>25000000.0</td>\n",
       "      <td>en</td>\n",
       "      <td>The Shawshank Redemption</td>\n",
       "      <td>Imprisoned in the 1940s for the double murder ...</td>\n",
       "      <td>34.8987</td>\n",
       "      <td>...</td>\n",
       "      <td>David V. Lester, Niki Marvin, Liz Glotzer</td>\n",
       "      <td>Thomas Newman</td>\n",
       "      <td>/9cqNxx0GxF0bflZmeSMuL5tnGzr.jpg</td>\n",
       "      <td>https://image.tmdb.org/t/p/w500/9cqNxx0GxF0bfl...</td>\n",
       "      <td>1994</td>\n",
       "      <td>9</td>\n",
       "      <td>Friday</td>\n",
       "      <td>3049541.0</td>\n",
       "      <td>9.0050</td>\n",
       "      <td>274611.17</td>\n",
       "    </tr>\n",
       "    <tr>\n",
       "      <th>116</th>\n",
       "      <td>155</td>\n",
       "      <td>The Dark Knight</td>\n",
       "      <td>2008-07-16</td>\n",
       "      <td>1.004558e+09</td>\n",
       "      <td>152.0</td>\n",
       "      <td>185000000.0</td>\n",
       "      <td>en</td>\n",
       "      <td>The Dark Knight</td>\n",
       "      <td>Batman raises the stakes in his war on crime. ...</td>\n",
       "      <td>30.3764</td>\n",
       "      <td>...</td>\n",
       "      <td>Michael Uslan, Emma Thomas, Kevin De La Noy, T...</td>\n",
       "      <td>James Newton Howard, Hans Zimmer</td>\n",
       "      <td>/qJ2tW6WMUDux911r6m7haRef0WH.jpg</td>\n",
       "      <td>https://image.tmdb.org/t/p/w500/qJ2tW6WMUDux91...</td>\n",
       "      <td>2008</td>\n",
       "      <td>7</td>\n",
       "      <td>Wednesday</td>\n",
       "      <td>3025710.0</td>\n",
       "      <td>8.7600</td>\n",
       "      <td>265052.20</td>\n",
       "    </tr>\n",
       "    <tr>\n",
       "      <th>16347</th>\n",
       "      <td>27205</td>\n",
       "      <td>Inception</td>\n",
       "      <td>2010-07-15</td>\n",
       "      <td>8.390306e+08</td>\n",
       "      <td>148.0</td>\n",
       "      <td>160000000.0</td>\n",
       "      <td>en</td>\n",
       "      <td>Inception</td>\n",
       "      <td>Cobb, a skilled thief who commits corporate es...</td>\n",
       "      <td>27.7650</td>\n",
       "      <td>...</td>\n",
       "      <td>Emma Thomas, Thomas Tull, Yoshikuni Taki, Chri...</td>\n",
       "      <td>Hans Zimmer</td>\n",
       "      <td>/oYuLEt3zVCKq57qu2F8dT7NIa6f.jpg</td>\n",
       "      <td>https://image.tmdb.org/t/p/w500/oYuLEt3zVCKq57...</td>\n",
       "      <td>2010</td>\n",
       "      <td>7</td>\n",
       "      <td>Thursday</td>\n",
       "      <td>2688130.0</td>\n",
       "      <td>8.5845</td>\n",
       "      <td>230762.52</td>\n",
       "    </tr>\n",
       "  </tbody>\n",
       "</table>\n",
       "<p>3 rows × 29 columns</p>\n",
       "</div>"
      ],
      "text/plain": [
       "          id                     title release_date       revenue  runtime  \\\n",
       "230      278  The Shawshank Redemption   1994-09-23  2.834147e+07    142.0   \n",
       "116      155           The Dark Knight   2008-07-16  1.004558e+09    152.0   \n",
       "16347  27205                 Inception   2010-07-15  8.390306e+08    148.0   \n",
       "\n",
       "            budget original_language            original_title  \\\n",
       "230     25000000.0                en  The Shawshank Redemption   \n",
       "116    185000000.0                en           The Dark Knight   \n",
       "16347  160000000.0                en                 Inception   \n",
       "\n",
       "                                                overview  popularity  ...  \\\n",
       "230    Imprisoned in the 1940s for the double murder ...     34.8987  ...   \n",
       "116    Batman raises the stakes in his war on crime. ...     30.3764  ...   \n",
       "16347  Cobb, a skilled thief who commits corporate es...     27.7650  ...   \n",
       "\n",
       "                                               producers  \\\n",
       "230            David V. Lester, Niki Marvin, Liz Glotzer   \n",
       "116    Michael Uslan, Emma Thomas, Kevin De La Noy, T...   \n",
       "16347  Emma Thomas, Thomas Tull, Yoshikuni Taki, Chri...   \n",
       "\n",
       "                         music_composer                       poster_path  \\\n",
       "230                       Thomas Newman  /9cqNxx0GxF0bflZmeSMuL5tnGzr.jpg   \n",
       "116    James Newton Howard, Hans Zimmer  /qJ2tW6WMUDux911r6m7haRef0WH.jpg   \n",
       "16347                       Hans Zimmer  /oYuLEt3zVCKq57qu2F8dT7NIa6f.jpg   \n",
       "\n",
       "                                              poster_url  year month  \\\n",
       "230    https://image.tmdb.org/t/p/w500/9cqNxx0GxF0bfl...  1994     9   \n",
       "116    https://image.tmdb.org/t/p/w500/qJ2tW6WMUDux91...  2008     7   \n",
       "16347  https://image.tmdb.org/t/p/w500/oYuLEt3zVCKq57...  2010     7   \n",
       "\n",
       "             day      votes average_rating     weight  \n",
       "230       Friday  3049541.0         9.0050  274611.17  \n",
       "116    Wednesday  3025710.0         8.7600  265052.20  \n",
       "16347   Thursday  2688130.0         8.5845  230762.52  \n",
       "\n",
       "[3 rows x 29 columns]"
      ]
     },
     "execution_count": 577,
     "metadata": {},
     "output_type": "execute_result"
    }
   ],
   "source": [
    "df.sort_values(by='weight', ascending=False).head(3)"
   ]
  },
  {
   "cell_type": "markdown",
   "id": "8a305f8c",
   "metadata": {},
   "source": [
    "### Trying to deal with outliers \n",
    "- If a movie has a large budget but zero revenue, in most cases this is because it is a test screening or unreleased\n",
    "- This movie will also most likely not have any votes or a rating\n",
    "- Making the movie not relevant to what I am trying to do"
   ]
  },
  {
   "cell_type": "code",
   "execution_count": 578,
   "id": "9e97fcea",
   "metadata": {},
   "outputs": [],
   "source": [
    "# exclude values with high budgets and 0 revenue made at the box office to avoid crazy outliers\n",
    "df = df[~((df['revenue'] == 0) & (df['budget'] > 10_000_000))]"
   ]
  },
  {
   "cell_type": "markdown",
   "id": "5a0469c1",
   "metadata": {},
   "source": [
    "#### Creating a profit column\n",
    "- This is so we have another value to use for comparisons later\n",
    "- Profit of a movie is a good detemriner of how well a movie have performed\n",
    "- Might consider making a \"profit weight\" column combining profit and rating to give another indicator on how well a movie performs"
   ]
  },
  {
   "cell_type": "code",
   "execution_count": 579,
   "id": "15f857e4",
   "metadata": {},
   "outputs": [],
   "source": [
    "# add profit column by subtracting revenue from budget\n",
    "df['profit_in_millions'] = ((df['revenue'] - df['budget']) / 1_000_000).round(2).astype('float64')"
   ]
  },
  {
   "cell_type": "code",
   "execution_count": 580,
   "id": "0a1585f1",
   "metadata": {},
   "outputs": [
    {
     "data": {
      "text/html": [
       "<div>\n",
       "<style scoped>\n",
       "    .dataframe tbody tr th:only-of-type {\n",
       "        vertical-align: middle;\n",
       "    }\n",
       "\n",
       "    .dataframe tbody tr th {\n",
       "        vertical-align: top;\n",
       "    }\n",
       "\n",
       "    .dataframe thead th {\n",
       "        text-align: right;\n",
       "    }\n",
       "</style>\n",
       "<table border=\"1\" class=\"dataframe\">\n",
       "  <thead>\n",
       "    <tr style=\"text-align: right;\">\n",
       "      <th></th>\n",
       "      <th>id</th>\n",
       "      <th>title</th>\n",
       "      <th>release_date</th>\n",
       "      <th>revenue</th>\n",
       "      <th>runtime</th>\n",
       "      <th>budget</th>\n",
       "      <th>original_language</th>\n",
       "      <th>original_title</th>\n",
       "      <th>overview</th>\n",
       "      <th>popularity</th>\n",
       "      <th>...</th>\n",
       "      <th>music_composer</th>\n",
       "      <th>poster_path</th>\n",
       "      <th>poster_url</th>\n",
       "      <th>year</th>\n",
       "      <th>month</th>\n",
       "      <th>day</th>\n",
       "      <th>votes</th>\n",
       "      <th>average_rating</th>\n",
       "      <th>weight</th>\n",
       "      <th>profit_in_millions</th>\n",
       "    </tr>\n",
       "  </thead>\n",
       "  <tbody>\n",
       "    <tr>\n",
       "      <th>916443</th>\n",
       "      <td>1270893</td>\n",
       "      <td>TikTok Rizz Party</td>\n",
       "      <td>2024-04-01</td>\n",
       "      <td>3.000000e+09</td>\n",
       "      <td>180.0</td>\n",
       "      <td>250000000.0</td>\n",
       "      <td>en</td>\n",
       "      <td>TikTok Rizz Party</td>\n",
       "      <td>a band of brothers, torn apart by the constant...</td>\n",
       "      <td>0.0000</td>\n",
       "      <td>...</td>\n",
       "      <td>NaN</td>\n",
       "      <td>NaN</td>\n",
       "      <td>NaN</td>\n",
       "      <td>2024</td>\n",
       "      <td>4</td>\n",
       "      <td>Monday</td>\n",
       "      <td>1.0</td>\n",
       "      <td>10.0000</td>\n",
       "      <td>0.10</td>\n",
       "      <td>2750.00</td>\n",
       "    </tr>\n",
       "    <tr>\n",
       "      <th>12058</th>\n",
       "      <td>19995</td>\n",
       "      <td>Avatar</td>\n",
       "      <td>2009-12-15</td>\n",
       "      <td>2.923706e+09</td>\n",
       "      <td>162.0</td>\n",
       "      <td>237000000.0</td>\n",
       "      <td>en</td>\n",
       "      <td>Avatar</td>\n",
       "      <td>In the 22nd century, a paraplegic Marine is di...</td>\n",
       "      <td>26.4519</td>\n",
       "      <td>...</td>\n",
       "      <td>James Horner</td>\n",
       "      <td>/kyeqWdyUXW608qlYkRqosgbbJyK.jpg</td>\n",
       "      <td>https://image.tmdb.org/t/p/w500/kyeqWdyUXW608q...</td>\n",
       "      <td>2009</td>\n",
       "      <td>12</td>\n",
       "      <td>Tuesday</td>\n",
       "      <td>1432326.0</td>\n",
       "      <td>7.7450</td>\n",
       "      <td>110933.65</td>\n",
       "      <td>2686.71</td>\n",
       "    </tr>\n",
       "    <tr>\n",
       "      <th>183556</th>\n",
       "      <td>299534</td>\n",
       "      <td>Avengers: Endgame</td>\n",
       "      <td>2019-04-24</td>\n",
       "      <td>2.799439e+09</td>\n",
       "      <td>181.0</td>\n",
       "      <td>356000000.0</td>\n",
       "      <td>en</td>\n",
       "      <td>Avengers: Endgame</td>\n",
       "      <td>After the devastating events of Avengers: Infi...</td>\n",
       "      <td>23.1131</td>\n",
       "      <td>...</td>\n",
       "      <td>Alan Silvestri</td>\n",
       "      <td>/ulzhLuWrPK07P1YkdWQLZnQh1JL.jpg</td>\n",
       "      <td>https://image.tmdb.org/t/p/w500/ulzhLuWrPK07P1...</td>\n",
       "      <td>2019</td>\n",
       "      <td>4</td>\n",
       "      <td>Wednesday</td>\n",
       "      <td>1360307.0</td>\n",
       "      <td>8.3195</td>\n",
       "      <td>113170.74</td>\n",
       "      <td>2443.44</td>\n",
       "    </tr>\n",
       "    <tr>\n",
       "      <th>697856</th>\n",
       "      <td>980477</td>\n",
       "      <td>Ne Zha 2</td>\n",
       "      <td>2025-01-29</td>\n",
       "      <td>2.208800e+09</td>\n",
       "      <td>144.0</td>\n",
       "      <td>80000000.0</td>\n",
       "      <td>zh</td>\n",
       "      <td>哪吒之魔童闹海</td>\n",
       "      <td>Following the Tribulation, although the souls ...</td>\n",
       "      <td>22.2524</td>\n",
       "      <td>...</td>\n",
       "      <td>Roc Chen, Wan Pin Chu, Yang Rui</td>\n",
       "      <td>/5lUmWTGkEcYnXujixXn31o9q2T0.jpg</td>\n",
       "      <td>https://image.tmdb.org/t/p/w500/5lUmWTGkEcYnXu...</td>\n",
       "      <td>2025</td>\n",
       "      <td>1</td>\n",
       "      <td>Wednesday</td>\n",
       "      <td>11061.0</td>\n",
       "      <td>8.0000</td>\n",
       "      <td>884.88</td>\n",
       "      <td>2128.80</td>\n",
       "    </tr>\n",
       "    <tr>\n",
       "      <th>471</th>\n",
       "      <td>597</td>\n",
       "      <td>Titanic</td>\n",
       "      <td>1997-11-18</td>\n",
       "      <td>2.264162e+09</td>\n",
       "      <td>194.0</td>\n",
       "      <td>200000000.0</td>\n",
       "      <td>en</td>\n",
       "      <td>Titanic</td>\n",
       "      <td>101-year-old Rose DeWitt Bukater tells the sto...</td>\n",
       "      <td>35.2150</td>\n",
       "      <td>...</td>\n",
       "      <td>James Horner</td>\n",
       "      <td>/9xjZS2rlVxm8SFx8kPC3aIGCOYQ.jpg</td>\n",
       "      <td>https://image.tmdb.org/t/p/w500/9xjZS2rlVxm8SF...</td>\n",
       "      <td>1997</td>\n",
       "      <td>11</td>\n",
       "      <td>Tuesday</td>\n",
       "      <td>1341005.0</td>\n",
       "      <td>7.9000</td>\n",
       "      <td>105939.40</td>\n",
       "      <td>2064.16</td>\n",
       "    </tr>\n",
       "  </tbody>\n",
       "</table>\n",
       "<p>5 rows × 30 columns</p>\n",
       "</div>"
      ],
      "text/plain": [
       "             id              title release_date       revenue  runtime  \\\n",
       "916443  1270893  TikTok Rizz Party   2024-04-01  3.000000e+09    180.0   \n",
       "12058     19995             Avatar   2009-12-15  2.923706e+09    162.0   \n",
       "183556   299534  Avengers: Endgame   2019-04-24  2.799439e+09    181.0   \n",
       "697856   980477           Ne Zha 2   2025-01-29  2.208800e+09    144.0   \n",
       "471         597            Titanic   1997-11-18  2.264162e+09    194.0   \n",
       "\n",
       "             budget original_language     original_title  \\\n",
       "916443  250000000.0                en  TikTok Rizz Party   \n",
       "12058   237000000.0                en             Avatar   \n",
       "183556  356000000.0                en  Avengers: Endgame   \n",
       "697856   80000000.0                zh            哪吒之魔童闹海   \n",
       "471     200000000.0                en            Titanic   \n",
       "\n",
       "                                                 overview  popularity  ...  \\\n",
       "916443  a band of brothers, torn apart by the constant...      0.0000  ...   \n",
       "12058   In the 22nd century, a paraplegic Marine is di...     26.4519  ...   \n",
       "183556  After the devastating events of Avengers: Infi...     23.1131  ...   \n",
       "697856  Following the Tribulation, although the souls ...     22.2524  ...   \n",
       "471     101-year-old Rose DeWitt Bukater tells the sto...     35.2150  ...   \n",
       "\n",
       "                         music_composer                       poster_path  \\\n",
       "916443                              NaN                               NaN   \n",
       "12058                      James Horner  /kyeqWdyUXW608qlYkRqosgbbJyK.jpg   \n",
       "183556                   Alan Silvestri  /ulzhLuWrPK07P1YkdWQLZnQh1JL.jpg   \n",
       "697856  Roc Chen, Wan Pin Chu, Yang Rui  /5lUmWTGkEcYnXujixXn31o9q2T0.jpg   \n",
       "471                        James Horner  /9xjZS2rlVxm8SFx8kPC3aIGCOYQ.jpg   \n",
       "\n",
       "                                               poster_url  year month  \\\n",
       "916443                                                NaN  2024     4   \n",
       "12058   https://image.tmdb.org/t/p/w500/kyeqWdyUXW608q...  2009    12   \n",
       "183556  https://image.tmdb.org/t/p/w500/ulzhLuWrPK07P1...  2019     4   \n",
       "697856  https://image.tmdb.org/t/p/w500/5lUmWTGkEcYnXu...  2025     1   \n",
       "471     https://image.tmdb.org/t/p/w500/9xjZS2rlVxm8SF...  1997    11   \n",
       "\n",
       "              day      votes average_rating     weight profit_in_millions  \n",
       "916443     Monday        1.0        10.0000       0.10            2750.00  \n",
       "12058     Tuesday  1432326.0         7.7450  110933.65            2686.71  \n",
       "183556  Wednesday  1360307.0         8.3195  113170.74            2443.44  \n",
       "697856  Wednesday    11061.0         8.0000     884.88            2128.80  \n",
       "471       Tuesday  1341005.0         7.9000  105939.40            2064.16  \n",
       "\n",
       "[5 rows x 30 columns]"
      ]
     },
     "execution_count": 580,
     "metadata": {},
     "output_type": "execute_result"
    }
   ],
   "source": [
    "df.sort_values(by='profit_in_millions',ascending=False).head(5)"
   ]
  },
  {
   "cell_type": "markdown",
   "id": "85951681",
   "metadata": {},
   "source": [
    " ### Removing original title to clean up dataframe and removing redundancy"
   ]
  },
  {
   "cell_type": "code",
   "execution_count": 581,
   "id": "e8ece442",
   "metadata": {},
   "outputs": [
    {
     "name": "stdout",
     "output_type": "stream",
     "text": [
      "Removed 'original_title' column as all values in 'title' are not null.\n"
     ]
    }
   ],
   "source": [
    "# removing original_title column if all values in title are not null\n",
    "if df['original_title'].isna().sum() == 0:\n",
    "    df.drop(columns=['original_title'], inplace=True)\n",
    "    print(\"Removed 'original_title' column as all values in 'title' are not null.\")"
   ]
  },
  {
   "cell_type": "markdown",
   "id": "005a103b",
   "metadata": {},
   "source": [
    "### Filling tagline and overview missing values with nothing \n",
    "- These values wont be important when it comes to modeling\n",
    "- Having nothing in the row will help me if I want to do something with these values later on as it will just ignore these values"
   ]
  },
  {
   "cell_type": "code",
   "execution_count": 582,
   "id": "c7c15cbb",
   "metadata": {},
   "outputs": [],
   "source": [
    "# add empty text to tagline and overview columns\n",
    "df['tagline'] = df['tagline'].fillna('')\n",
    "df['overview'] = df['overview'].fillna('')"
   ]
  },
  {
   "cell_type": "markdown",
   "id": "275f3cbb",
   "metadata": {},
   "source": [
    "### Removing poster_path because we already have poster_url which is the direct link to the poster"
   ]
  },
  {
   "cell_type": "code",
   "execution_count": 583,
   "id": "9fa3cd5d",
   "metadata": {},
   "outputs": [],
   "source": [
    "# remove poster_path column since we have poster_url now\n",
    "df.drop(columns='poster_path', inplace=True)  "
   ]
  },
  {
   "cell_type": "markdown",
   "id": "fc848ffb",
   "metadata": {},
   "source": [
    "### Handling all list values\n",
    "- All these values have potential for multiple values\n",
    "- I am converting these values into list to help with analysis later on\n",
    "- Also, to deal with missing values I will add an empty list in order to clean up the dataframe"
   ]
  },
  {
   "cell_type": "code",
   "execution_count": 584,
   "id": "ae68a18f",
   "metadata": {},
   "outputs": [],
   "source": [
    "# list of columns with na values that I dont want to remove entirely but instead adding a list of empty values\n",
    "list_like_columns = [\n",
    "    'production_companies',\n",
    "    'production_countries',\n",
    "    'spoken_languages',\n",
    "    'cast',\n",
    "    'director',\n",
    "    'director_of_photography',\n",
    "    'writers',\n",
    "    'producers',\n",
    "    'music_composer',\n",
    "    'genres'\n",
    "]\n",
    "\n",
    "for col in list_like_columns:\n",
    "    df[col] = df[col].fillna('[]')"
   ]
  },
  {
   "cell_type": "code",
   "execution_count": 585,
   "id": "334522c9",
   "metadata": {},
   "outputs": [],
   "source": [
    "# split values in genres, production_companies, production_countries, spoken_languages, cast, director, director_of_photography, writers, producers, music_composer columns into lists\n",
    "list_columns = [\n",
    "    'genres',\n",
    "    'production_companies',\n",
    "    'production_countries',\n",
    "    'spoken_languages',\n",
    "    'cast',\n",
    "    'director',\n",
    "    'director_of_photography',\n",
    "    'writers',\n",
    "    'producers',\n",
    "    'music_composer'\n",
    "]\n",
    "\n",
    "# function to safely convert string to list\n",
    "def string_to_list(x):\n",
    "    if pd.isna(x) or x == '[]' or x == '':\n",
    "        return []\n",
    "    # split by comma and strip whitespace, handling cases like 'Comedy, Drama'\n",
    "    return [item.strip() for item in x.split(',')]\n",
    "\n",
    "# apply the function to convert strings to lists for each column\n",
    "for col in list_columns:\n",
    "    df[col] = df[col].apply(string_to_list)"
   ]
  },
  {
   "cell_type": "code",
   "execution_count": 586,
   "id": "b7f9fa5f",
   "metadata": {},
   "outputs": [
    {
     "data": {
      "text/html": [
       "<div>\n",
       "<style scoped>\n",
       "    .dataframe tbody tr th:only-of-type {\n",
       "        vertical-align: middle;\n",
       "    }\n",
       "\n",
       "    .dataframe tbody tr th {\n",
       "        vertical-align: top;\n",
       "    }\n",
       "\n",
       "    .dataframe thead th {\n",
       "        text-align: right;\n",
       "    }\n",
       "</style>\n",
       "<table border=\"1\" class=\"dataframe\">\n",
       "  <thead>\n",
       "    <tr style=\"text-align: right;\">\n",
       "      <th></th>\n",
       "      <th>genres</th>\n",
       "      <th>production_companies</th>\n",
       "      <th>production_countries</th>\n",
       "      <th>spoken_languages</th>\n",
       "      <th>cast</th>\n",
       "      <th>director</th>\n",
       "      <th>director_of_photography</th>\n",
       "      <th>writers</th>\n",
       "      <th>producers</th>\n",
       "      <th>music_composer</th>\n",
       "    </tr>\n",
       "  </thead>\n",
       "  <tbody>\n",
       "    <tr>\n",
       "      <th>0</th>\n",
       "      <td>[Comedy, Drama, Romance, Crime]</td>\n",
       "      <td>[Villealfa Filmproductions]</td>\n",
       "      <td>[Finland]</td>\n",
       "      <td>[suomi]</td>\n",
       "      <td>[Merja Pulkkinen, Eetu Hilkamo, Turo Pajala, E...</td>\n",
       "      <td>[Aki Kaurismäki]</td>\n",
       "      <td>[Timo Salminen]</td>\n",
       "      <td>[Aki Kaurismäki]</td>\n",
       "      <td>[Aki Kaurismäki]</td>\n",
       "      <td>[]</td>\n",
       "    </tr>\n",
       "    <tr>\n",
       "      <th>1</th>\n",
       "      <td>[Comedy, Drama, Romance]</td>\n",
       "      <td>[Villealfa Filmproductions]</td>\n",
       "      <td>[Finland]</td>\n",
       "      <td>[suomi, English, svenska]</td>\n",
       "      <td>[Esko Nikkari, Mari Rantasila, Marina Martinof...</td>\n",
       "      <td>[Aki Kaurismäki]</td>\n",
       "      <td>[Timo Salminen]</td>\n",
       "      <td>[Aki Kaurismäki]</td>\n",
       "      <td>[Mika Kaurismäki]</td>\n",
       "      <td>[]</td>\n",
       "    </tr>\n",
       "    <tr>\n",
       "      <th>2</th>\n",
       "      <td>[Comedy]</td>\n",
       "      <td>[Miramax, A Band Apart]</td>\n",
       "      <td>[United States of America]</td>\n",
       "      <td>[English]</td>\n",
       "      <td>[Lili Taylor, Madonna, Tamlyn Tomita, Marc Law...</td>\n",
       "      <td>[Quentin Tarantino, Robert Rodriguez, Allison ...</td>\n",
       "      <td>[Phil Parmet, Guillermo Navarro, Andrzej Sekul...</td>\n",
       "      <td>[Quentin Tarantino, Robert Rodriguez, Allison ...</td>\n",
       "      <td>[Lawrence Bender, Quentin Tarantino, Alexandre...</td>\n",
       "      <td>[Combustible Edison]</td>\n",
       "    </tr>\n",
       "    <tr>\n",
       "      <th>3</th>\n",
       "      <td>[Action, Crime, Thriller]</td>\n",
       "      <td>[Largo Entertainment, JVC, Universal Pictures]</td>\n",
       "      <td>[United States of America]</td>\n",
       "      <td>[English]</td>\n",
       "      <td>[Donovan D. Ross, Lydell M. Cheshier, Denis Le...</td>\n",
       "      <td>[Stephen Hopkins]</td>\n",
       "      <td>[Peter Levy]</td>\n",
       "      <td>[Lewis Colick, Jere Cunningham]</td>\n",
       "      <td>[Gene Levy, Lloyd Segan, Marilyn Vance]</td>\n",
       "      <td>[Alan Silvestri]</td>\n",
       "    </tr>\n",
       "    <tr>\n",
       "      <th>4</th>\n",
       "      <td>[Documentary]</td>\n",
       "      <td>[inLoops]</td>\n",
       "      <td>[Austria]</td>\n",
       "      <td>[English, हिन्दी, 日本語, Pусский, Español]</td>\n",
       "      <td>[]</td>\n",
       "      <td>[Timo Novotny]</td>\n",
       "      <td>[Wolfgang Thaler]</td>\n",
       "      <td>[Michael Glawogger, Timo Novotny]</td>\n",
       "      <td>[Ulrich Gehmacher, Timo Novotny]</td>\n",
       "      <td>[]</td>\n",
       "    </tr>\n",
       "  </tbody>\n",
       "</table>\n",
       "</div>"
      ],
      "text/plain": [
       "                            genres  \\\n",
       "0  [Comedy, Drama, Romance, Crime]   \n",
       "1         [Comedy, Drama, Romance]   \n",
       "2                         [Comedy]   \n",
       "3        [Action, Crime, Thriller]   \n",
       "4                    [Documentary]   \n",
       "\n",
       "                             production_companies        production_countries  \\\n",
       "0                     [Villealfa Filmproductions]                   [Finland]   \n",
       "1                     [Villealfa Filmproductions]                   [Finland]   \n",
       "2                         [Miramax, A Band Apart]  [United States of America]   \n",
       "3  [Largo Entertainment, JVC, Universal Pictures]  [United States of America]   \n",
       "4                                       [inLoops]                   [Austria]   \n",
       "\n",
       "                           spoken_languages  \\\n",
       "0                                   [suomi]   \n",
       "1                 [suomi, English, svenska]   \n",
       "2                                 [English]   \n",
       "3                                 [English]   \n",
       "4  [English, हिन्दी, 日本語, Pусский, Español]   \n",
       "\n",
       "                                                cast  \\\n",
       "0  [Merja Pulkkinen, Eetu Hilkamo, Turo Pajala, E...   \n",
       "1  [Esko Nikkari, Mari Rantasila, Marina Martinof...   \n",
       "2  [Lili Taylor, Madonna, Tamlyn Tomita, Marc Law...   \n",
       "3  [Donovan D. Ross, Lydell M. Cheshier, Denis Le...   \n",
       "4                                                 []   \n",
       "\n",
       "                                            director  \\\n",
       "0                                   [Aki Kaurismäki]   \n",
       "1                                   [Aki Kaurismäki]   \n",
       "2  [Quentin Tarantino, Robert Rodriguez, Allison ...   \n",
       "3                                  [Stephen Hopkins]   \n",
       "4                                     [Timo Novotny]   \n",
       "\n",
       "                             director_of_photography  \\\n",
       "0                                    [Timo Salminen]   \n",
       "1                                    [Timo Salminen]   \n",
       "2  [Phil Parmet, Guillermo Navarro, Andrzej Sekul...   \n",
       "3                                       [Peter Levy]   \n",
       "4                                  [Wolfgang Thaler]   \n",
       "\n",
       "                                             writers  \\\n",
       "0                                   [Aki Kaurismäki]   \n",
       "1                                   [Aki Kaurismäki]   \n",
       "2  [Quentin Tarantino, Robert Rodriguez, Allison ...   \n",
       "3                    [Lewis Colick, Jere Cunningham]   \n",
       "4                  [Michael Glawogger, Timo Novotny]   \n",
       "\n",
       "                                           producers        music_composer  \n",
       "0                                   [Aki Kaurismäki]                    []  \n",
       "1                                  [Mika Kaurismäki]                    []  \n",
       "2  [Lawrence Bender, Quentin Tarantino, Alexandre...  [Combustible Edison]  \n",
       "3            [Gene Levy, Lloyd Segan, Marilyn Vance]      [Alan Silvestri]  \n",
       "4                   [Ulrich Gehmacher, Timo Novotny]                    []  "
      ]
     },
     "execution_count": 586,
     "metadata": {},
     "output_type": "execute_result"
    }
   ],
   "source": [
    "df[list_columns].head()"
   ]
  },
  {
   "cell_type": "markdown",
   "id": "f81e9b30",
   "metadata": {},
   "source": [
    "### Drop popularity because we already have weight and profit columns to analyze movie performance"
   ]
  },
  {
   "cell_type": "code",
   "execution_count": 587,
   "id": "5845e463",
   "metadata": {},
   "outputs": [],
   "source": [
    "df.drop(columns=['popularity'], inplace=True)  # drop popularity column since it is not needed as we have weight and ratings etc"
   ]
  },
  {
   "cell_type": "code",
   "execution_count": 588,
   "id": "2c9a55b8",
   "metadata": {},
   "outputs": [],
   "source": [
    "# Add \"No Poster Available\" placeholder for movies without posters\n",
    "df['poster_url'] = df['poster_url'].fillna('No Poster Available')"
   ]
  },
  {
   "cell_type": "markdown",
   "id": "c367f605",
   "metadata": {},
   "source": [
    "### Check columns to see which ones we have left"
   ]
  },
  {
   "cell_type": "code",
   "execution_count": 589,
   "id": "d1c4f18c",
   "metadata": {},
   "outputs": [
    {
     "data": {
      "text/plain": [
       "Index(['id', 'title', 'release_date', 'revenue', 'runtime', 'budget',\n",
       "       'original_language', 'overview', 'tagline', 'genres',\n",
       "       'production_companies', 'production_countries', 'spoken_languages',\n",
       "       'cast', 'director', 'director_of_photography', 'writers', 'producers',\n",
       "       'music_composer', 'poster_url', 'year', 'month', 'day', 'votes',\n",
       "       'average_rating', 'weight', 'profit_in_millions'],\n",
       "      dtype='object')"
      ]
     },
     "execution_count": 589,
     "metadata": {},
     "output_type": "execute_result"
    }
   ],
   "source": [
    "df.columns"
   ]
  },
  {
   "cell_type": "markdown",
   "id": "0826c4be",
   "metadata": {},
   "source": [
    "### Check for any more missing values inside of the entire dataframe"
   ]
  },
  {
   "cell_type": "code",
   "execution_count": 590,
   "id": "c64c31f3",
   "metadata": {},
   "outputs": [
    {
     "data": {
      "text/plain": [
       "[]"
      ]
     },
     "execution_count": 590,
     "metadata": {},
     "output_type": "execute_result"
    }
   ],
   "source": [
    "# check all of the columns for na values\n",
    "na_columns = df.columns[df.isna().any()].tolist()\n",
    "na_columns "
   ]
  },
  {
   "cell_type": "code",
   "execution_count": 591,
   "id": "dfa8d688",
   "metadata": {},
   "outputs": [
    {
     "name": "stdout",
     "output_type": "stream",
     "text": [
      "Removed 656476 rows from the dataset due to various cleaning steps.\n"
     ]
    }
   ],
   "source": [
    "print(f\"Removed {initial_rows - len(df)} rows from the dataset due to various cleaning steps.\")"
   ]
  },
  {
   "cell_type": "code",
   "execution_count": 592,
   "id": "3241a977",
   "metadata": {},
   "outputs": [
    {
     "name": "stdout",
     "output_type": "stream",
     "text": [
      "<class 'pandas.core.frame.DataFrame'>\n",
      "Index: 446978 entries, 0 to 1103383\n",
      "Data columns (total 27 columns):\n",
      " #   Column                   Non-Null Count   Dtype         \n",
      "---  ------                   --------------   -----         \n",
      " 0   id                       446978 non-null  int64         \n",
      " 1   title                    446978 non-null  object        \n",
      " 2   release_date             446978 non-null  datetime64[ns]\n",
      " 3   revenue                  446978 non-null  float64       \n",
      " 4   runtime                  446978 non-null  float64       \n",
      " 5   budget                   446978 non-null  float64       \n",
      " 6   original_language        446978 non-null  object        \n",
      " 7   overview                 446978 non-null  object        \n",
      " 8   tagline                  446978 non-null  object        \n",
      " 9   genres                   446978 non-null  object        \n",
      " 10  production_companies     446978 non-null  object        \n",
      " 11  production_countries     446978 non-null  object        \n",
      " 12  spoken_languages         446978 non-null  object        \n",
      " 13  cast                     446978 non-null  object        \n",
      " 14  director                 446978 non-null  object        \n",
      " 15  director_of_photography  446978 non-null  object        \n",
      " 16  writers                  446978 non-null  object        \n",
      " 17  producers                446978 non-null  object        \n",
      " 18  music_composer           446978 non-null  object        \n",
      " 19  poster_url               446978 non-null  object        \n",
      " 20  year                     446978 non-null  Int64         \n",
      " 21  month                    446978 non-null  Int64         \n",
      " 22  day                      446978 non-null  object        \n",
      " 23  votes                    446978 non-null  float64       \n",
      " 24  average_rating           446978 non-null  float64       \n",
      " 25  weight                   446978 non-null  float64       \n",
      " 26  profit_in_millions       446978 non-null  float64       \n",
      "dtypes: Int64(2), datetime64[ns](1), float64(7), int64(1), object(16)\n",
      "memory usage: 96.3+ MB\n"
     ]
    }
   ],
   "source": [
    "df.info()"
   ]
  },
  {
   "cell_type": "markdown",
   "id": "c15fccf1",
   "metadata": {},
   "source": [
    "###  Conclusion\n",
    "\n",
    "This notebook consist of a cleaning of the TMDB + IMDB movie dataset, preparing it for future exploratory data analysis, visualizations and machine learning tasks. Key steps and accomplishments include:\n",
    "\n",
    "- **Duplicate and Irrelevant Row Removal**:\n",
    "  - Removed duplicate movies based on `id`.\n",
    "  - Dropped entries with missing `title`, invalid `runtime` (0), or non-\"Released\" status to ensure only valid, analyzable movies remain.\n",
    "  - Filtered out movies with extremely low engagement (bottom 1% of `votes`) and those with nonsensical financial status (high `budget` but zero `revenue`).\n",
    "\n",
    "- **Feature Engineering**:\n",
    "  - Created a working `poster_url` field from `poster_path` and added fallback values for missing posters.\n",
    "  - Extracted `year`, `month`, and day of the week from `release_date` for richer temporal analysis.\n",
    "  - Merged `vote_count` and `imdb_votes` into a unified `votes` column and computed a new `average_rating` by averaging `tmdb rating` and `imdb rating`.\n",
    "  - Created a `weight` metric combining vote volume and rating, and a `profit_in_millions` feature to assess movie profitability.\n",
    "\n",
    "- **Null Handling Strategy**:\n",
    "  - Used selective dropping (`title`, `release_date`) only when data was essential.\n",
    "  - Imputed `tagline` and `overview` with empty strings. (potential for word analysis in these values)\n",
    "  - Replaced list-like nulls in columns such as `cast`, `genres`, and `production_companies` with `'[]'`, then parsed all into proper Python lists for modeling or token analysis.\n",
    "\n",
    "- **Column Reduction**:\n",
    "  - Removed unnecessary or redundant columns such as `imdb_id`, `poster_path`, `original_title`, `vote_average`, `vote_count`, `imdb_rating`, `popularity`, and `status`.\n",
    "\n",
    "With these steps, the dataset is now consistent, feature-rich, and eda-ready. The next stage will focus on visualizing key patterns, identifying outliers, understanding genre trends, rating distributions, and correlations across features.\n",
    "\n"
   ]
  }
 ],
 "metadata": {
  "kernelspec": {
   "display_name": "base",
   "language": "python",
   "name": "python3"
  },
  "language_info": {
   "codemirror_mode": {
    "name": "ipython",
    "version": 3
   },
   "file_extension": ".py",
   "mimetype": "text/x-python",
   "name": "python",
   "nbconvert_exporter": "python",
   "pygments_lexer": "ipython3",
   "version": "3.11.5"
  }
 },
 "nbformat": 4,
 "nbformat_minor": 5
}
