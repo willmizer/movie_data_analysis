{
 "cells": [
  {
   "cell_type": "code",
   "execution_count": 2,
   "id": "4ba3361d",
   "metadata": {},
   "outputs": [],
   "source": [
    "import pandas as pd"
   ]
  },
  {
   "cell_type": "code",
   "execution_count": 3,
   "id": "ee525f69",
   "metadata": {},
   "outputs": [],
   "source": [
    "df1 = pd.read_csv('title.basics.tsv', sep='\\t', low_memory=False)\n",
    "df2 = pd.read_csv('title.ratings.tsv', sep='\\t')"
   ]
  },
  {
   "cell_type": "code",
   "execution_count": 4,
   "id": "8c3fc468",
   "metadata": {},
   "outputs": [
    {
     "name": "stdout",
     "output_type": "stream",
     "text": [
      "<class 'pandas.core.frame.DataFrame'>\n",
      "RangeIndex: 11702150 entries, 0 to 11702149\n",
      "Data columns (total 9 columns):\n",
      " #   Column          Dtype \n",
      "---  ------          ----- \n",
      " 0   tconst          object\n",
      " 1   titleType       object\n",
      " 2   primaryTitle    object\n",
      " 3   originalTitle   object\n",
      " 4   isAdult         object\n",
      " 5   startYear       object\n",
      " 6   endYear         object\n",
      " 7   runtimeMinutes  object\n",
      " 8   genres          object\n",
      "dtypes: object(9)\n",
      "memory usage: 803.5+ MB\n"
     ]
    }
   ],
   "source": [
    "df1.info()"
   ]
  },
  {
   "cell_type": "code",
   "execution_count": 5,
   "id": "58e9e573",
   "metadata": {},
   "outputs": [
    {
     "name": "stdout",
     "output_type": "stream",
     "text": [
      "<class 'pandas.core.frame.DataFrame'>\n",
      "RangeIndex: 1575801 entries, 0 to 1575800\n",
      "Data columns (total 3 columns):\n",
      " #   Column         Non-Null Count    Dtype  \n",
      "---  ------         --------------    -----  \n",
      " 0   tconst         1575801 non-null  object \n",
      " 1   averageRating  1575801 non-null  float64\n",
      " 2   numVotes       1575801 non-null  int64  \n",
      "dtypes: float64(1), int64(1), object(1)\n",
      "memory usage: 36.1+ MB\n"
     ]
    }
   ],
   "source": [
    "df2.info()"
   ]
  },
  {
   "cell_type": "code",
   "execution_count": 6,
   "id": "38fc46f1",
   "metadata": {},
   "outputs": [
    {
     "data": {
      "text/plain": [
       "array(['short', 'movie', 'tvShort', 'tvMovie', 'tvEpisode', 'tvSeries',\n",
       "       'tvMiniSeries', 'tvSpecial', 'video', 'videoGame', 'tvPilot'],\n",
       "      dtype=object)"
      ]
     },
     "execution_count": 6,
     "metadata": {},
     "output_type": "execute_result"
    }
   ],
   "source": [
    "df1['titleType'].unique()"
   ]
  },
  {
   "cell_type": "code",
   "execution_count": 7,
   "id": "1c848547",
   "metadata": {},
   "outputs": [],
   "source": [
    "# convert runtimeMinutes and startYear to numeric, coerce errors to NaN\n",
    "df1['runtimeMinutes'] = pd.to_numeric(df1['runtimeMinutes'], errors='coerce')\n",
    "df1['startYear'] = pd.to_numeric(df1['startYear'], errors='coerce')"
   ]
  },
  {
   "cell_type": "code",
   "execution_count": 8,
   "id": "4c7b993e",
   "metadata": {},
   "outputs": [],
   "source": [
    "# grab only movie values from titleType\n",
    "df1 = df1[df1['titleType'].isin(['movie', 'tvMovie'])]"
   ]
  },
  {
   "cell_type": "code",
   "execution_count": 9,
   "id": "c2d39bf7",
   "metadata": {},
   "outputs": [],
   "source": [
    "# cutoff movies values at being greater than or equal to 45 minutes and less than or equal to 300 minutes\n",
    "df1 = df1[(df1['runtimeMinutes'] >= 45) & (df1['runtimeMinutes'] <= 300)]"
   ]
  },
  {
   "cell_type": "code",
   "execution_count": null,
   "id": "f8f54f7f",
   "metadata": {},
   "outputs": [],
   "source": [
    "# cutoff movies where is adult == 1\n",
    "df1 = df1[df1['isAdult'] == \"0\"]"
   ]
  },
  {
   "cell_type": "code",
   "execution_count": null,
   "id": "45527d80",
   "metadata": {},
   "outputs": [
    {
     "name": "stdout",
     "output_type": "stream",
     "text": [
      "<class 'pandas.core.frame.DataFrame'>\n",
      "Index: 482187 entries, 15479 to 11702100\n",
      "Data columns (total 9 columns):\n",
      " #   Column          Non-Null Count   Dtype  \n",
      "---  ------          --------------   -----  \n",
      " 0   tconst          482187 non-null  object \n",
      " 1   titleType       482187 non-null  object \n",
      " 2   primaryTitle    482186 non-null  object \n",
      " 3   originalTitle   482186 non-null  object \n",
      " 4   isAdult         482187 non-null  object \n",
      " 5   startYear       482187 non-null  float64\n",
      " 6   endYear         482187 non-null  object \n",
      " 7   runtimeMinutes  482187 non-null  float64\n",
      " 8   genres          482187 non-null  object \n",
      "dtypes: float64(2), object(7)\n",
      "memory usage: 36.8+ MB\n"
     ]
    }
   ],
   "source": [
    "df1.info()"
   ]
  },
  {
   "cell_type": "code",
   "execution_count": 12,
   "id": "d017455a",
   "metadata": {},
   "outputs": [],
   "source": [
    "# inner join df1 and df2 on tconst\n",
    "df = pd.merge(df1, df2, on='tconst', how='inner')"
   ]
  },
  {
   "cell_type": "code",
   "execution_count": null,
   "id": "fbffa1ba",
   "metadata": {},
   "outputs": [
    {
     "data": {
      "text/html": [
       "<div>\n",
       "<style scoped>\n",
       "    .dataframe tbody tr th:only-of-type {\n",
       "        vertical-align: middle;\n",
       "    }\n",
       "\n",
       "    .dataframe tbody tr th {\n",
       "        vertical-align: top;\n",
       "    }\n",
       "\n",
       "    .dataframe thead th {\n",
       "        text-align: right;\n",
       "    }\n",
       "</style>\n",
       "<table border=\"1\" class=\"dataframe\">\n",
       "  <thead>\n",
       "    <tr style=\"text-align: right;\">\n",
       "      <th></th>\n",
       "      <th>tconst</th>\n",
       "      <th>titleType</th>\n",
       "      <th>primaryTitle</th>\n",
       "      <th>originalTitle</th>\n",
       "      <th>isAdult</th>\n",
       "      <th>startYear</th>\n",
       "      <th>endYear</th>\n",
       "      <th>runtimeMinutes</th>\n",
       "      <th>genres</th>\n",
       "      <th>averageRating</th>\n",
       "      <th>numVotes</th>\n",
       "    </tr>\n",
       "  </thead>\n",
       "  <tbody>\n",
       "    <tr>\n",
       "      <th>378</th>\n",
       "      <td>tt0006864</td>\n",
       "      <td>movie</td>\n",
       "      <td>Intolerance</td>\n",
       "      <td>Intolerance: Love's Struggle Throughout the Ages</td>\n",
       "      <td>0</td>\n",
       "      <td>1916.0</td>\n",
       "      <td>\\N</td>\n",
       "      <td>163.0</td>\n",
       "      <td>Drama,History</td>\n",
       "      <td>7.7</td>\n",
       "      <td>17445</td>\n",
       "    </tr>\n",
       "    <tr>\n",
       "      <th>902</th>\n",
       "      <td>tt0009968</td>\n",
       "      <td>movie</td>\n",
       "      <td>Broken Blossoms</td>\n",
       "      <td>Broken Blossoms or The Yellow Man and the Girl</td>\n",
       "      <td>0</td>\n",
       "      <td>1919.0</td>\n",
       "      <td>\\N</td>\n",
       "      <td>90.0</td>\n",
       "      <td>Drama,Romance</td>\n",
       "      <td>7.2</td>\n",
       "      <td>11487</td>\n",
       "    </tr>\n",
       "    <tr>\n",
       "      <th>982</th>\n",
       "      <td>tt0010323</td>\n",
       "      <td>movie</td>\n",
       "      <td>The Cabinet of Dr. Caligari</td>\n",
       "      <td>Das Cabinet des Dr. Caligari</td>\n",
       "      <td>0</td>\n",
       "      <td>1920.0</td>\n",
       "      <td>\\N</td>\n",
       "      <td>67.0</td>\n",
       "      <td>Horror,Mystery,Thriller</td>\n",
       "      <td>8.0</td>\n",
       "      <td>73629</td>\n",
       "    </tr>\n",
       "    <tr>\n",
       "      <th>1166</th>\n",
       "      <td>tt0011237</td>\n",
       "      <td>movie</td>\n",
       "      <td>The Golem</td>\n",
       "      <td>Der Golem, wie er in die Welt kam</td>\n",
       "      <td>0</td>\n",
       "      <td>1920.0</td>\n",
       "      <td>\\N</td>\n",
       "      <td>91.0</td>\n",
       "      <td>Fantasy,Horror</td>\n",
       "      <td>7.2</td>\n",
       "      <td>9086</td>\n",
       "    </tr>\n",
       "    <tr>\n",
       "      <th>1292</th>\n",
       "      <td>tt0011841</td>\n",
       "      <td>movie</td>\n",
       "      <td>Way Down East</td>\n",
       "      <td>Way Down East</td>\n",
       "      <td>0</td>\n",
       "      <td>1920.0</td>\n",
       "      <td>\\N</td>\n",
       "      <td>145.0</td>\n",
       "      <td>Drama,Romance</td>\n",
       "      <td>7.3</td>\n",
       "      <td>6127</td>\n",
       "    </tr>\n",
       "    <tr>\n",
       "      <th>...</th>\n",
       "      <td>...</td>\n",
       "      <td>...</td>\n",
       "      <td>...</td>\n",
       "      <td>...</td>\n",
       "      <td>...</td>\n",
       "      <td>...</td>\n",
       "      <td>...</td>\n",
       "      <td>...</td>\n",
       "      <td>...</td>\n",
       "      <td>...</td>\n",
       "      <td>...</td>\n",
       "    </tr>\n",
       "    <tr>\n",
       "      <th>17977</th>\n",
       "      <td>tt0042040</td>\n",
       "      <td>movie</td>\n",
       "      <td>Whisky Galore!</td>\n",
       "      <td>Whisky Galore!</td>\n",
       "      <td>0</td>\n",
       "      <td>1949.0</td>\n",
       "      <td>\\N</td>\n",
       "      <td>82.0</td>\n",
       "      <td>Comedy,Crime</td>\n",
       "      <td>7.1</td>\n",
       "      <td>7018</td>\n",
       "    </tr>\n",
       "    <tr>\n",
       "      <th>17978</th>\n",
       "      <td>tt0042041</td>\n",
       "      <td>movie</td>\n",
       "      <td>White Heat</td>\n",
       "      <td>White Heat</td>\n",
       "      <td>0</td>\n",
       "      <td>1949.0</td>\n",
       "      <td>\\N</td>\n",
       "      <td>114.0</td>\n",
       "      <td>Action,Crime,Drama</td>\n",
       "      <td>8.1</td>\n",
       "      <td>37280</td>\n",
       "    </tr>\n",
       "    <tr>\n",
       "      <th>17980</th>\n",
       "      <td>tt0042046</td>\n",
       "      <td>movie</td>\n",
       "      <td>The Window</td>\n",
       "      <td>The Window</td>\n",
       "      <td>0</td>\n",
       "      <td>1949.0</td>\n",
       "      <td>\\N</td>\n",
       "      <td>73.0</td>\n",
       "      <td>Drama,Film-Noir,Thriller</td>\n",
       "      <td>7.4</td>\n",
       "      <td>5201</td>\n",
       "    </tr>\n",
       "    <tr>\n",
       "      <th>18157</th>\n",
       "      <td>tt0042369</td>\n",
       "      <td>movie</td>\n",
       "      <td>D.O.A.</td>\n",
       "      <td>D.O.A.</td>\n",
       "      <td>0</td>\n",
       "      <td>1949.0</td>\n",
       "      <td>\\N</td>\n",
       "      <td>83.0</td>\n",
       "      <td>Crime,Drama,Film-Noir</td>\n",
       "      <td>7.2</td>\n",
       "      <td>13681</td>\n",
       "    </tr>\n",
       "    <tr>\n",
       "      <th>24816</th>\n",
       "      <td>tt0051790</td>\n",
       "      <td>movie</td>\n",
       "      <td>Ivan the Terrible, Part II: The Boyars' Plot</td>\n",
       "      <td>Ivan Groznyy. Skaz vtoroy: Boyarskiy zagovor</td>\n",
       "      <td>0</td>\n",
       "      <td>1946.0</td>\n",
       "      <td>\\N</td>\n",
       "      <td>88.0</td>\n",
       "      <td>Biography,Drama,History</td>\n",
       "      <td>7.7</td>\n",
       "      <td>8429</td>\n",
       "    </tr>\n",
       "  </tbody>\n",
       "</table>\n",
       "<p>471 rows × 11 columns</p>\n",
       "</div>"
      ],
      "text/plain": [
       "          tconst titleType                                  primaryTitle  \\\n",
       "378    tt0006864     movie                                   Intolerance   \n",
       "902    tt0009968     movie                               Broken Blossoms   \n",
       "982    tt0010323     movie                   The Cabinet of Dr. Caligari   \n",
       "1166   tt0011237     movie                                     The Golem   \n",
       "1292   tt0011841     movie                                 Way Down East   \n",
       "...          ...       ...                                           ...   \n",
       "17977  tt0042040     movie                                Whisky Galore!   \n",
       "17978  tt0042041     movie                                    White Heat   \n",
       "17980  tt0042046     movie                                    The Window   \n",
       "18157  tt0042369     movie                                        D.O.A.   \n",
       "24816  tt0051790     movie  Ivan the Terrible, Part II: The Boyars' Plot   \n",
       "\n",
       "                                          originalTitle isAdult  startYear  \\\n",
       "378    Intolerance: Love's Struggle Throughout the Ages       0     1916.0   \n",
       "902      Broken Blossoms or The Yellow Man and the Girl       0     1919.0   \n",
       "982                        Das Cabinet des Dr. Caligari       0     1920.0   \n",
       "1166                  Der Golem, wie er in die Welt kam       0     1920.0   \n",
       "1292                                      Way Down East       0     1920.0   \n",
       "...                                                 ...     ...        ...   \n",
       "17977                                    Whisky Galore!       0     1949.0   \n",
       "17978                                        White Heat       0     1949.0   \n",
       "17980                                        The Window       0     1949.0   \n",
       "18157                                            D.O.A.       0     1949.0   \n",
       "24816      Ivan Groznyy. Skaz vtoroy: Boyarskiy zagovor       0     1946.0   \n",
       "\n",
       "      endYear  runtimeMinutes                    genres  averageRating  \\\n",
       "378        \\N           163.0             Drama,History            7.7   \n",
       "902        \\N            90.0             Drama,Romance            7.2   \n",
       "982        \\N            67.0   Horror,Mystery,Thriller            8.0   \n",
       "1166       \\N            91.0            Fantasy,Horror            7.2   \n",
       "1292       \\N           145.0             Drama,Romance            7.3   \n",
       "...       ...             ...                       ...            ...   \n",
       "17977      \\N            82.0              Comedy,Crime            7.1   \n",
       "17978      \\N           114.0        Action,Crime,Drama            8.1   \n",
       "17980      \\N            73.0  Drama,Film-Noir,Thriller            7.4   \n",
       "18157      \\N            83.0     Crime,Drama,Film-Noir            7.2   \n",
       "24816      \\N            88.0   Biography,Drama,History            7.7   \n",
       "\n",
       "       numVotes  \n",
       "378       17445  \n",
       "902       11487  \n",
       "982       73629  \n",
       "1166       9086  \n",
       "1292       6127  \n",
       "...         ...  \n",
       "17977      7018  \n",
       "17978     37280  \n",
       "17980      5201  \n",
       "18157     13681  \n",
       "24816      8429  \n",
       "\n",
       "[471 rows x 11 columns]"
      ]
     },
     "execution_count": 18,
     "metadata": {},
     "output_type": "execute_result"
    }
   ],
   "source": [
    "df = df[(df['startYear'] >= 1950) | (df['averageRating'] >= 7.0) & (df['numVotes'] >= 5000)]"
   ]
  },
  {
   "cell_type": "code",
   "execution_count": 19,
   "id": "675fe9c2",
   "metadata": {},
   "outputs": [],
   "source": [
    "# remove all rows where votes are less than 10, this removes and obscure movies, then remove all rows with votes under 500, if poorly rated\n",
    "df = df[df['numVotes'] >= 25]"
   ]
  },
  {
   "cell_type": "code",
   "execution_count": 20,
   "id": "faa39450",
   "metadata": {},
   "outputs": [],
   "source": [
    "# drop movies with less than 500 ratings and lower scores, keeping nicher movies if there are rated well\n",
    "df = df[~((df['numVotes'] <= 500) & (df['averageRating'] < 7))]"
   ]
  },
  {
   "cell_type": "code",
   "execution_count": 21,
   "id": "a280efd8",
   "metadata": {},
   "outputs": [],
   "source": [
    "# drop all columns that are noise and not needed\n",
    "df.drop(columns=['isAdult','endYear', 'titleType','originalTitle',], inplace=True)"
   ]
  },
  {
   "cell_type": "code",
   "execution_count": 22,
   "id": "277bb8b2",
   "metadata": {},
   "outputs": [
    {
     "name": "stdout",
     "output_type": "stream",
     "text": [
      "<class 'pandas.core.frame.DataFrame'>\n",
      "Index: 108642 entries, 378 to 338661\n",
      "Data columns (total 7 columns):\n",
      " #   Column          Non-Null Count   Dtype  \n",
      "---  ------          --------------   -----  \n",
      " 0   tconst          108642 non-null  object \n",
      " 1   primaryTitle    108642 non-null  object \n",
      " 2   startYear       108642 non-null  float64\n",
      " 3   runtimeMinutes  108642 non-null  float64\n",
      " 4   genres          108642 non-null  object \n",
      " 5   averageRating   108642 non-null  float64\n",
      " 6   numVotes        108642 non-null  int64  \n",
      "dtypes: float64(3), int64(1), object(3)\n",
      "memory usage: 6.6+ MB\n"
     ]
    }
   ],
   "source": [
    "df.info()"
   ]
  },
  {
   "cell_type": "code",
   "execution_count": 23,
   "id": "2596ffff",
   "metadata": {},
   "outputs": [],
   "source": [
    "# convert to csv and save\n",
    "df.to_csv('cleaned_imdb_movies.csv', index=False)"
   ]
  }
 ],
 "metadata": {
  "kernelspec": {
   "display_name": ".venv",
   "language": "python",
   "name": "python3"
  },
  "language_info": {
   "codemirror_mode": {
    "name": "ipython",
    "version": 3
   },
   "file_extension": ".py",
   "mimetype": "text/x-python",
   "name": "python",
   "nbconvert_exporter": "python",
   "pygments_lexer": "ipython3",
   "version": "3.11.4"
  }
 },
 "nbformat": 4,
 "nbformat_minor": 5
}
