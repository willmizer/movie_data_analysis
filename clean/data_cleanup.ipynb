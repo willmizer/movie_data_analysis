{
 "cells": [
  {
   "cell_type": "code",
   "execution_count": 1,
   "id": "3005f4ae",
   "metadata": {},
   "outputs": [],
   "source": [
    "import pandas as pd\n",
    "\n",
    "# Load full TMDB dataset\n",
    "tmdb = pd.read_csv(\"tmdb_movie_data_full.csv\")\n",
    "\n",
    "# Load scraped themes\n",
    "themes = pd.read_csv(\"movie_themes.csv\", usecols=[\"title\",\"themes\"])\n",
    "\n",
    "# Merge on title (left join keeps all TMDB rows)\n",
    "df = tmdb.merge(themes, on=\"title\", how=\"left\")\n",
    "\n",
    "# Fill movies with no themes found\n",
    "df[\"themes\"] = df[\"themes\"].fillna(\"\")\n",
    "\n",
    "# Save\n",
    "df.to_csv(\"final_tmdb.csv\", index=False)\n"
   ]
  },
  {
   "cell_type": "code",
   "execution_count": 2,
   "id": "b3909675",
   "metadata": {},
   "outputs": [],
   "source": [
    "df.drop_duplicates(inplace=True)"
   ]
  },
  {
   "cell_type": "code",
   "execution_count": 3,
   "id": "1fe59397",
   "metadata": {},
   "outputs": [
    {
     "name": "stdout",
     "output_type": "stream",
     "text": [
      "<class 'pandas.core.frame.DataFrame'>\n",
      "Index: 104763 entries, 0 to 137276\n",
      "Data columns (total 22 columns):\n",
      " #   Column                Non-Null Count   Dtype  \n",
      "---  ------                --------------   -----  \n",
      " 0   imdb_id               104763 non-null  object \n",
      " 1   tmdb_id               104763 non-null  int64  \n",
      " 2   title                 104763 non-null  object \n",
      " 3   release_date          104193 non-null  object \n",
      " 4   genres                100547 non-null  object \n",
      " 5   revenue               104763 non-null  int64  \n",
      " 6   budget                104763 non-null  int64  \n",
      " 7   runtime               104763 non-null  int64  \n",
      " 8   vote_average          104763 non-null  float64\n",
      " 9   vote_count            104763 non-null  int64  \n",
      " 10  top_cast              97547 non-null   object \n",
      " 11  director              102285 non-null  object \n",
      " 12  keywords              62804 non-null   object \n",
      " 13  spoken_languages      94149 non-null   object \n",
      " 14  collection_name       9343 non-null    object \n",
      " 15  watch_providers       34422 non-null   object \n",
      " 16  production_companies  83730 non-null   object \n",
      " 17  certification         30497 non-null   object \n",
      " 18  overview              102481 non-null  object \n",
      " 19  poster_url            100526 non-null  object \n",
      " 20  error                 0 non-null       float64\n",
      " 21  themes                104763 non-null  object \n",
      "dtypes: float64(2), int64(5), object(15)\n",
      "memory usage: 18.4+ MB\n"
     ]
    }
   ],
   "source": [
    "df.info()"
   ]
  },
  {
   "cell_type": "code",
   "execution_count": 4,
   "id": "54a42367",
   "metadata": {},
   "outputs": [],
   "source": [
    "# drop useless error column\n",
    "df.drop(columns=['error'],inplace = True)"
   ]
  },
  {
   "cell_type": "code",
   "execution_count": 5,
   "id": "f8acff10",
   "metadata": {},
   "outputs": [],
   "source": [
    "# fill missing values with empty strings for modeling purposes\n",
    "text_cols = [\n",
    "    \"genres\",\n",
    "    \"top_cast\",\n",
    "    \"director\",\n",
    "    \"keywords\",\n",
    "    \"spoken_languages\",\n",
    "    \"watch_providers\",\n",
    "    \"production_companies\",\n",
    "    \"certification\",\n",
    "    \"overview\",\n",
    "    \"themes\",\n",
    "    \"collection_name\",\n",
    "    \"poster_url\"\n",
    "]\n",
    "\n",
    "\n",
    "df[text_cols] = df[text_cols].fillna(\"\")\n",
    "\n",
    "# 4) If you’d rather keep release_date as a datetime, fill missing with pd.NaT\n",
    "df[\"release_date\"] = df[\"release_date\"].fillna(pd.NaT)\n"
   ]
  },
  {
   "cell_type": "code",
   "execution_count": 6,
   "id": "b3bdb053",
   "metadata": {},
   "outputs": [],
   "source": [
    "# convert release_date to day,month,year\n",
    "df['release_date'] = pd.to_datetime(df['release_date'], errors='coerce')\n",
    "df['day'] = df['release_date'].dt.day\n",
    "df['month'] = df['release_date'].dt.month\n",
    "df['year'] = df['release_date'].dt.year\n",
    "df.drop(columns=['release_date'], inplace=True)"
   ]
  },
  {
   "cell_type": "code",
   "execution_count": 7,
   "id": "17b95963",
   "metadata": {},
   "outputs": [],
   "source": [
    "# convert nans to 0 for day, month, year\n",
    "for col in (\"day\",\"month\",\"year\"):\n",
    "    if col in df.columns:\n",
    "        df[col] = df[col].fillna(0).astype(int)"
   ]
  },
  {
   "cell_type": "code",
   "execution_count": 8,
   "id": "66bf958e",
   "metadata": {},
   "outputs": [
    {
     "name": "stdout",
     "output_type": "stream",
     "text": [
      "<class 'pandas.core.frame.DataFrame'>\n",
      "Index: 104763 entries, 0 to 137276\n",
      "Data columns (total 23 columns):\n",
      " #   Column                Non-Null Count   Dtype  \n",
      "---  ------                --------------   -----  \n",
      " 0   imdb_id               104763 non-null  object \n",
      " 1   tmdb_id               104763 non-null  int64  \n",
      " 2   title                 104763 non-null  object \n",
      " 3   genres                104763 non-null  object \n",
      " 4   revenue               104763 non-null  int64  \n",
      " 5   budget                104763 non-null  int64  \n",
      " 6   runtime               104763 non-null  int64  \n",
      " 7   vote_average          104763 non-null  float64\n",
      " 8   vote_count            104763 non-null  int64  \n",
      " 9   top_cast              104763 non-null  object \n",
      " 10  director              104763 non-null  object \n",
      " 11  keywords              104763 non-null  object \n",
      " 12  spoken_languages      104763 non-null  object \n",
      " 13  collection_name       104763 non-null  object \n",
      " 14  watch_providers       104763 non-null  object \n",
      " 15  production_companies  104763 non-null  object \n",
      " 16  certification         104763 non-null  object \n",
      " 17  overview              104763 non-null  object \n",
      " 18  poster_url            104763 non-null  object \n",
      " 19  themes                104763 non-null  object \n",
      " 20  day                   104763 non-null  int64  \n",
      " 21  month                 104763 non-null  int64  \n",
      " 22  year                  104763 non-null  int64  \n",
      "dtypes: float64(1), int64(8), object(14)\n",
      "memory usage: 19.2+ MB\n"
     ]
    }
   ],
   "source": [
    "df.info()"
   ]
  },
  {
   "cell_type": "code",
   "execution_count": 9,
   "id": "cdab0aae",
   "metadata": {},
   "outputs": [],
   "source": [
    "df.to_csv(\"final_cleaned_tmdb.csv\", index=False)"
   ]
  },
  {
   "cell_type": "code",
   "execution_count": null,
   "id": "05f39d58",
   "metadata": {},
   "outputs": [],
   "source": []
  }
 ],
 "metadata": {
  "kernelspec": {
   "display_name": ".venv",
   "language": "python",
   "name": "python3"
  },
  "language_info": {
   "codemirror_mode": {
    "name": "ipython",
    "version": 3
   },
   "file_extension": ".py",
   "mimetype": "text/x-python",
   "name": "python",
   "nbconvert_exporter": "python",
   "pygments_lexer": "ipython3",
   "version": "3.11.4"
  }
 },
 "nbformat": 4,
 "nbformat_minor": 5
}
